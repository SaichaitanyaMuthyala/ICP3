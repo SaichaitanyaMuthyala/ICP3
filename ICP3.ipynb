{
  "nbformat": 4,
  "nbformat_minor": 0,
  "metadata": {
    "colab": {
      "provenance": []
    },
    "kernelspec": {
      "name": "python3",
      "display_name": "Python 3"
    },
    "language_info": {
      "name": "python"
    }
  },
  "cells": [
    {
      "cell_type": "code",
      "execution_count": 1,
      "metadata": {
        "colab": {
          "base_uri": "https://localhost:8080/"
        },
        "id": "0UayOUzMt3Bt",
        "outputId": "5e1ed075-09bc-4ca9-9c6e-d9855e34b61e"
      },
      "outputs": [
        {
          "output_type": "stream",
          "name": "stdout",
          "text": [
            "Original vector: [15  2  3  6 11  7  8 10  6  4  3  3  6 15 14]\n",
            "Reshaped array:\n",
            " [[15  2  3  6 11]\n",
            " [ 7  8 10  6  4]\n",
            " [ 3  3  6 15 14]]\n",
            "Array shape: (3, 5)\n",
            "Array with max replaced by 0:\n",
            " [[ 0  2  3  6 11]\n",
            " [ 7  8  0  6  4]\n",
            " [ 3  3  6  0 14]]\n",
            "2-dimensional array:\n",
            " [[12  9  5]\n",
            " [ 1 19  2]\n",
            " [16  8  8]\n",
            " [ 7  4 13]]\n",
            "Shape of the array: (4, 3)\n",
            "Type of the array: <class 'numpy.ndarray'>\n",
            "Data type of the array: int32\n"
          ]
        }
      ],
      "source": [
        "import numpy as np\n",
        "\n",
        "# Task 1: Create a random vector of size 15 with integers in the range 1-20\n",
        "random_vector = np.random.randint(1, 21, size=15)\n",
        "print(\"Original vector:\", random_vector)\n",
        "\n",
        "# Reshape the array to 3 by 5\n",
        "reshaped_array = random_vector.reshape(3, 5)\n",
        "print(\"Reshaped array:\\n\", reshaped_array)\n",
        "\n",
        "# Print array shape\n",
        "print(\"Array shape:\", reshaped_array.shape)\n",
        "\n",
        "# Replace the max in each row by 0\n",
        "for row in reshaped_array:\n",
        "    row[row.argmax()] = 0\n",
        "print(\"Array with max replaced by 0:\\n\", reshaped_array)\n",
        "\n",
        "# Task 2: Create a 2-dimensional array of size 4x3 with 4-byte integer elements\n",
        "two_dim_array = np.array(np.random.randint(1, 21, size=(4, 3)), dtype='int32')\n",
        "print(\"2-dimensional array:\\n\", two_dim_array)\n",
        "\n",
        "# Print the shape, type, and data type of the array\n",
        "print(\"Shape of the array:\", two_dim_array.shape)\n",
        "print(\"Type of the array:\", type(two_dim_array))\n",
        "print(\"Data type of the array:\", two_dim_array.dtype)\n"
      ]
    },
    {
      "cell_type": "code",
      "source": [
        "import numpy as np\n",
        "\n",
        "# Given square array\n",
        "A = np.array([[3, -2], [1, 0]])\n",
        "\n",
        "# Compute the eigenvalues and right eigenvectors\n",
        "eigenvalues, eigenvectors = np.linalg.eig(A)\n",
        "\n",
        "print(\"Eigenvalues of the array:\\n\", eigenvalues)\n",
        "print(\"Right eigenvectors of the array:\\n\", eigenvectors)\n"
      ],
      "metadata": {
        "colab": {
          "base_uri": "https://localhost:8080/"
        },
        "id": "pERMqfoGu0UA",
        "outputId": "83b85905-bda6-4962-e24a-718bdd7a318c"
      },
      "execution_count": 2,
      "outputs": [
        {
          "output_type": "stream",
          "name": "stdout",
          "text": [
            "Eigenvalues of the array:\n",
            " [2. 1.]\n",
            "Right eigenvectors of the array:\n",
            " [[0.89442719 0.70710678]\n",
            " [0.4472136  0.70710678]]\n"
          ]
        }
      ]
    },
    {
      "cell_type": "code",
      "source": [
        "import numpy as np\n",
        "\n",
        "# Given array\n",
        "array = np.array([[0, 1, 2], [3, 4, 5]])\n",
        "\n",
        "# Compute the sum of the diagonal elements\n",
        "# Since the given array is not square, we need to calculate the sum manually\n",
        "diagonal_sum = np.sum(np.diag(array))\n",
        "print(\"Sum of the diagonal elements:\", diagonal_sum)\n"
      ],
      "metadata": {
        "colab": {
          "base_uri": "https://localhost:8080/"
        },
        "id": "i7uL8t9wyLPH",
        "outputId": "5aabbe71-1570-4c1b-bc46-6b721d3d63ac"
      },
      "execution_count": 3,
      "outputs": [
        {
          "output_type": "stream",
          "name": "stdout",
          "text": [
            "Sum of the diagonal elements: 4\n"
          ]
        }
      ]
    },
    {
      "cell_type": "code",
      "source": [
        "import numpy as np\n",
        "\n",
        "# Original array\n",
        "original_array = np.array([[1, 2], [3, 4], [5, 6]])\n",
        "print(\"Original array (3x2):\\n\", original_array)\n",
        "\n",
        "# Reshape to 2x3\n",
        "reshaped_array = original_array.reshape(2, 3)\n",
        "print(\"Reshaped array (2x3):\\n\", reshaped_array)\n"
      ],
      "metadata": {
        "colab": {
          "base_uri": "https://localhost:8080/"
        },
        "id": "snwpMK6kyspH",
        "outputId": "04c34d46-d11a-45bc-eddb-3b6aefeee872"
      },
      "execution_count": 4,
      "outputs": [
        {
          "output_type": "stream",
          "name": "stdout",
          "text": [
            "Original array (3x2):\n",
            " [[1 2]\n",
            " [3 4]\n",
            " [5 6]]\n",
            "Reshaped array (2x3):\n",
            " [[1 2 3]\n",
            " [4 5 6]]\n"
          ]
        }
      ]
    },
    {
      "cell_type": "code",
      "source": [],
      "metadata": {
        "id": "J2N5X_mP9bO5"
      },
      "execution_count": null,
      "outputs": []
    }
  ]
}